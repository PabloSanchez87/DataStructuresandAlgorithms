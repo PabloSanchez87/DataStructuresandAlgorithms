{
 "cells": [
  {
   "cell_type": "markdown",
   "id": "f1a0b912",
   "metadata": {},
   "source": [
    "# **Kth Largest Element in an Array**\n"
   ]
  },
  {
   "cell_type": "markdown",
   "id": "cffe7517",
   "metadata": {},
   "source": [
    "- [LeetCode.com](https://leetcode.com/problems/kth-largest-element-in-an-array/)"
   ]
  },
  {
   "cell_type": "markdown",
   "id": "8396ecbe",
   "metadata": {},
   "source": [
    "## Description"
   ]
  },
  {
   "cell_type": "markdown",
   "id": "33eb7f6d",
   "metadata": {},
   "source": [
    "Given an integer array `nums` and an integer `k`, return the **kth largest element** in the array.\n",
    "\n",
    "> Note: It is the **kth largest element in the sorted order**, not the **kth distinct element**.\n",
    "\n",
    "Can you solve it **without sorting**?\n",
    "\n",
    "\n",
    "### Example 1:\n",
    "\n",
    "**Input**:  \n",
    "`nums = [3, 2, 1, 5, 6, 4]`, `k = 2`  \n",
    "**Output**:  \n",
    "`5`\n",
    "\n",
    "### Example 2:\n",
    "\n",
    "**Input**:  \n",
    "`nums = [3, 2, 3, 1, 2, 4, 5, 5, 6]`, `k = 4`  \n",
    "**Output**:  \n",
    "`4`\n",
    "\n",
    "### Constraints:\n",
    "\n",
    "- `1 <= k <= nums.length <= 10⁵`\n",
    "- `-10⁴ <= nums[i] <= 10⁴`"
   ]
  },
  {
   "cell_type": "markdown",
   "id": "b93f902b",
   "metadata": {},
   "source": [
    "## Solution"
   ]
  },
  {
   "cell_type": "code",
   "execution_count": 2,
   "id": "8945e68e",
   "metadata": {},
   "outputs": [],
   "source": [
    "import heapq\n",
    "\n",
    "def kth_largest(nums, k):\n",
    "  if not nums:\n",
    "    return \n",
    "\n",
    "  heap = []\n",
    "  for num in nums:\n",
    "    if len(heap) < k:\n",
    "      heapq.heappush(heap, num)\n",
    "    elif num > heap[0]:\n",
    "      heapq.heappushpop(heap, num)\n",
    "\n",
    "  return heap[0]"
   ]
  },
  {
   "cell_type": "code",
   "execution_count": 3,
   "id": "f5bf246a",
   "metadata": {},
   "outputs": [
    {
     "data": {
      "text/plain": [
       "5"
      ]
     },
     "execution_count": 3,
     "metadata": {},
     "output_type": "execute_result"
    }
   ],
   "source": [
    "nums = [3, 2, 1, 5, 6, 4]\n",
    "k = 2\n",
    "\n",
    "kth_largest(nums, k)"
   ]
  },
  {
   "cell_type": "code",
   "execution_count": 4,
   "id": "0c33365e",
   "metadata": {},
   "outputs": [
    {
     "data": {
      "text/plain": [
       "4"
      ]
     },
     "execution_count": 4,
     "metadata": {},
     "output_type": "execute_result"
    }
   ],
   "source": [
    "nums = [3, 2, 3, 1, 2, 4, 5, 5, 6]\n",
    "k = 4\n",
    "\n",
    "kth_largest(nums, k)"
   ]
  }
 ],
 "metadata": {
  "kernelspec": {
   "display_name": ".env",
   "language": "python",
   "name": "python3"
  },
  "language_info": {
   "codemirror_mode": {
    "name": "ipython",
    "version": 3
   },
   "file_extension": ".py",
   "mimetype": "text/x-python",
   "name": "python",
   "nbconvert_exporter": "python",
   "pygments_lexer": "ipython3",
   "version": "3.10.12"
  }
 },
 "nbformat": 4,
 "nbformat_minor": 5
}
